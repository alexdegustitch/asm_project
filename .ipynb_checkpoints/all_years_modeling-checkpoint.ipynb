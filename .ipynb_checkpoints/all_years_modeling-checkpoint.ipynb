{
 "cells": [
  {
   "cell_type": "code",
   "execution_count": 10,
   "metadata": {},
   "outputs": [
    {
     "data": {
      "text/html": [
       "<style>.container { width:95% !important; }</style>"
      ],
      "text/plain": [
       "<IPython.core.display.HTML object>"
      ]
     },
     "metadata": {},
     "output_type": "display_data"
    }
   ],
   "source": [
    "# Vizuelna podešavanja okruženja (samo razvuče notebook na širinu ekrana)\n",
    "from IPython.core.display import display, HTML\n",
    "display(HTML(\"<style>.container { width:95% !important; }</style>\"))\n"
   ]
  },
  {
   "cell_type": "code",
   "execution_count": 22,
   "metadata": {},
   "outputs": [],
   "source": [
    "import networkx as nx\n",
    "import pickle\n",
    "\n",
    "with open('data_cleaned/data2018_cleaned', 'rb') as file:\n",
    "    data2018 = pickle.load(file)\n",
    "with open('data_cleaned/data2019_cleaned', 'rb') as file:\n",
    "    data2019 = pickle.load(file)\n",
    "with open('data_cleaned/data2020_cleaned', 'rb') as file:\n",
    "    data2020 = pickle.load(file)\n",
    "\n",
    "data = data2018.append(data2019.append(data2020))"
   ]
  },
  {
   "cell_type": "code",
   "execution_count": 23,
   "metadata": {},
   "outputs": [
    {
     "name": "stdout",
     "output_type": "stream",
     "text": [
      "Ukupan broj igraca je 581\n"
     ]
    }
   ],
   "source": [
    "lista_winners2018 = set(data2018['winner_id'].unique())\n",
    "lista_losers2018 = set(data2018['loser_id'].unique())\n",
    "\n",
    "lista_winners2019 = set(data2019['winner_id'].unique())\n",
    "lista_losers2019 = set(data2019['loser_id'].unique())\n",
    "\n",
    "lista_winners2020 = set(data2020['winner_id'].unique())\n",
    "lista_losers2020 = set(data2020['loser_id'].unique())\n",
    "\n",
    "players2018 = lista_winners2018.union(lista_losers2018)\n",
    "players2019 = lista_winners2019.union(lista_losers2019)\n",
    "players2020 = lista_winners2020.union(lista_losers2020)\n",
    "\n",
    "svi_igraci = players2018.union(players2019.union(players2020))\n",
    "print(f\"Ukupan broj igraca je {len(svi_igraci)}\")"
   ]
  },
  {
   "cell_type": "code",
   "execution_count": 24,
   "metadata": {},
   "outputs": [],
   "source": [
    "import pandas as pd\n",
    "\n",
    "dataPath = 'data/atp_players.csv'\n",
    "players = pd.read_csv(dataPath)\n",
    "\n",
    "dataPath = 'data/atp_rankings_current.csv'\n",
    "rankings = pd.read_csv(dataPath)"
   ]
  },
  {
   "cell_type": "code",
   "execution_count": 25,
   "metadata": {},
   "outputs": [],
   "source": [
    "G = nx.Graph()\n",
    "for player_id in svi_igraci:\n",
    "    player = players[players['player_id'] == player_id]\n",
    "    if player.empty:\n",
    "        print(\"Postoji id igraca koji ne postoji u listi svih igraca!\")\n",
    "    else:\n",
    "        player_rank = rankings[(rankings['player_id'] == player_id)]\n",
    "        rank_p = 0\n",
    "        points_p = 0\n",
    "        \n",
    "        if not player_rank.empty:\n",
    "            last_row = player_rank.shape[0] - 1\n",
    "            rank_p = int(player_rank.iloc[last_row, 1])\n",
    "            points_p = int(player_rank.iloc[last_row, 3])\n",
    "            \n",
    "        G.add_node(str(player_id), first_name = str(player.iloc[0, 1]), last_name = str(player.iloc[0, 2]), country = str(player.iloc[0, 5]), hand = str(player.iloc[0, 3]), rank = rank_p, points = points_p)\n"
   ]
  },
  {
   "cell_type": "code",
   "execution_count": 26,
   "metadata": {},
   "outputs": [],
   "source": [
    "data_reduced2018 = data2018[['winner_id', 'loser_id']]\n",
    "data_reduced2018 = data_reduced2018.astype({'winner_id': str, 'loser_id': str})\n",
    "\n",
    "data_reduced2019 = data2019[['winner_id', 'loser_id']]\n",
    "data_reduced2019 = data_reduced2019.astype({'winner_id': str, 'loser_id': str})\n",
    "\n",
    "data_reduced2020 = data2020[['winner_id', 'loser_id']]\n",
    "data_reduced2020 = data_reduced2020.astype({'winner_id': str, 'loser_id': str})\n",
    "\n",
    "for _, winner_id, loser_id in data_reduced2018.itertuples():\n",
    "    if (winner_id, loser_id) in G.edges:\n",
    "        G.edges[winner_id, loser_id]['weight'] += 1\n",
    "    else:\n",
    "        G.add_edge(winner_id, loser_id, weight = 1)\n",
    "\n",
    "for _, winner_id, loser_id in data_reduced2019.itertuples():\n",
    "    if (winner_id, loser_id) in G.edges:\n",
    "        G.edges[winner_id, loser_id]['weight'] += 1\n",
    "    else:\n",
    "        G.add_edge(winner_id, loser_id, weight = 1)\n",
    "        \n",
    "for _, winner_id, loser_id in data_reduced2020.itertuples():\n",
    "    if (winner_id, loser_id) in G.edges:\n",
    "        G.edges[winner_id, loser_id]['weight'] += 1\n",
    "    else:\n",
    "        G.add_edge(winner_id, loser_id, weight = 1)"
   ]
  },
  {
   "cell_type": "code",
   "execution_count": 27,
   "metadata": {},
   "outputs": [],
   "source": [
    "output_path = \"models/model_all_years.gml\"\n",
    "nx.write_gml(G, output_path)"
   ]
  },
  {
   "cell_type": "code",
   "execution_count": 28,
   "metadata": {},
   "outputs": [
    {
     "name": "stdout",
     "output_type": "stream",
     "text": [
      "Name: \n",
      "Type: Graph\n",
      "Number of nodes: 581\n",
      "Number of edges: 5330\n",
      "Average degree:  18.3477\n"
     ]
    }
   ],
   "source": [
    "print(nx.info(G))"
   ]
  },
  {
   "cell_type": "code",
   "execution_count": 29,
   "metadata": {},
   "outputs": [
    {
     "name": "stdout",
     "output_type": "stream",
     "text": [
      "(7117, 49)\n"
     ]
    }
   ],
   "source": [
    "def plot_tournir_frequency(data, \n",
    "                           xscale = \"linear\", yscale = \"linear\"):\n",
    "\n",
    "    if weighted:\n",
    "        degrees = G.degree(weight=\"weight\")\n",
    "    else:\n",
    "        degrees = G.degree()\n",
    "    _, deg_list = zip(*degrees)\n",
    "    deg_counts = Counter(deg_list)        \n",
    "    print(deg_counts)\n",
    "    x, y = zip(*deg_counts.items())                                                      \n",
    "\n",
    "    plt.figure(1)   \n",
    "\n",
    "    # prep axes   \n",
    "    if weighted:\n",
    "        plt.xlabel('weighted degree')  \n",
    "    else:\n",
    "        plt.xlabel('degree')                                                                                                             \n",
    "    plt.xscale(xscale)                                                                                                                \n",
    "    plt.xlim(1, max(x))  \n",
    "\n",
    "    plt.ylabel('frequency')                                                                                                          \n",
    "    plt.yscale(yscale)                                                                                                                \n",
    "    plt.ylim(1, max(y))                                                                                                             \n",
    "                                                                                                                                                                                                    \n",
    "    plt.scatter(x, y, marker='.')                                                                                                    \n",
    "    plt.show()"
   ]
  },
  {
   "cell_type": "code",
   "execution_count": null,
   "metadata": {},
   "outputs": [],
   "source": []
  }
 ],
 "metadata": {
  "kernelspec": {
   "display_name": "Python 3",
   "language": "python",
   "name": "python3"
  },
  "language_info": {
   "codemirror_mode": {
    "name": "ipython",
    "version": 3
   },
   "file_extension": ".py",
   "mimetype": "text/x-python",
   "name": "python",
   "nbconvert_exporter": "python",
   "pygments_lexer": "ipython3",
   "version": "3.8.5"
  }
 },
 "nbformat": 4,
 "nbformat_minor": 4
}
