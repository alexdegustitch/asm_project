{
 "cells": [
  {
   "cell_type": "code",
   "execution_count": 1,
   "metadata": {},
   "outputs": [
    {
     "data": {
      "text/html": [
       "<style>.container { width:95% !important;}</style>"
      ],
      "text/plain": [
       "<IPython.core.display.HTML object>"
      ]
     },
     "metadata": {},
     "output_type": "display_data"
    }
   ],
   "source": [
    "# Vizuelna podešavanja okruženja (samo razvuče notebook na širinu ekrana)\n",
    "from IPython.core.display import display, HTML\n",
    "display(HTML(\"<style>.container { width:95% !important;}</style>\"))"
   ]
  },
  {
   "cell_type": "code",
   "execution_count": 2,
   "metadata": {},
   "outputs": [],
   "source": [
    "import pandas as pd\n",
    "dataPath = \"data/atp_matches_2019.csv\"\n",
    "\n",
    "data = pd.read_csv(dataPath)"
   ]
  },
  {
   "cell_type": "code",
   "execution_count": 3,
   "metadata": {},
   "outputs": [],
   "source": [
    "data['id'] = data.index"
   ]
  },
  {
   "cell_type": "code",
   "execution_count": 4,
   "metadata": {},
   "outputs": [
    {
     "name": "stdout",
     "output_type": "stream",
     "text": [
      "Kolona ima 50, a redova ima 2781\n",
      "Index(['tourney_id', 'tourney_name', 'surface', 'draw_size', 'tourney_level',\n",
      "       'tourney_date', 'match_num', 'winner_id', 'winner_seed', 'winner_entry',\n",
      "       'winner_name', 'winner_hand', 'winner_ht', 'winner_ioc', 'winner_age',\n",
      "       'loser_id', 'loser_seed', 'loser_entry', 'loser_name', 'loser_hand',\n",
      "       'loser_ht', 'loser_ioc', 'loser_age', 'score', 'best_of', 'round',\n",
      "       'minutes', 'w_ace', 'w_df', 'w_svpt', 'w_1stIn', 'w_1stWon', 'w_2ndWon',\n",
      "       'w_SvGms', 'w_bpSaved', 'w_bpFaced', 'l_ace', 'l_df', 'l_svpt',\n",
      "       'l_1stIn', 'l_1stWon', 'l_2ndWon', 'l_SvGms', 'l_bpSaved', 'l_bpFaced',\n",
      "       'winner_rank', 'winner_rank_points', 'loser_rank', 'loser_rank_points',\n",
      "       'id'],\n",
      "      dtype='object')\n"
     ]
    }
   ],
   "source": [
    "print(\"Kolona ima {}, a redova ima {}\".format(data.shape[1], data.shape[0]))\n",
    "print(data.columns)"
   ]
  },
  {
   "cell_type": "code",
   "execution_count": 5,
   "metadata": {},
   "outputs": [
    {
     "name": "stdout",
     "output_type": "stream",
     "text": [
      "False\n",
      "tourney_id  winner_id  loser_id\n",
      "2019-0301   103970     104898      1\n",
      "            104259     104926      1\n",
      "                       105614      1\n",
      "                       200005      1\n",
      "            104907     111202      1\n",
      "                                  ..\n",
      "2019-M035   128034     105385      1\n",
      "            144750     105575      1\n",
      "            200000     124187      1\n",
      "            200175     105732      1\n",
      "                       200615      1\n",
      "Name: id, Length: 2781, dtype: int64\n",
      "0\n"
     ]
    }
   ],
   "source": [
    "import numpy as np\n",
    "\n",
    "print(data['tourney_id'].isnull().values.any())\n",
    "\n",
    "data_grupisano = data.groupby(['tourney_id', 'winner_id', 'loser_id'])\n",
    "data_agregirano = data_grupisano['id'].agg(np.size)\n",
    "print(data_agregirano)\n",
    "print(data_agregirano[data_agregirano > 1].size)"
   ]
  },
  {
   "cell_type": "code",
   "execution_count": 6,
   "metadata": {},
   "outputs": [
    {
     "name": "stdout",
     "output_type": "stream",
     "text": [
      "          id                 name  order_id\n",
      "0     105453        Kei Nishikori         0\n",
      "1     106421      Daniil Medvedev         1\n",
      "2     105453        Kei Nishikori         2\n",
      "3     104542   Jo-Wilfried Tsonga         3\n",
      "4     106421      Daniil Medvedev         4\n",
      "...      ...                  ...       ...\n",
      "5557  144817  Marc Andrea Huesler      5557\n",
      "5558  105967      Henri Laaksonen      5558\n",
      "5559  111200           Elias Ymer      5559\n",
      "5560  144707          Mikael Ymer      5560\n",
      "5561  111200           Elias Ymer      5561\n",
      "\n",
      "[5562 rows x 3 columns]\n"
     ]
    }
   ],
   "source": [
    "data_winners = data[['winner_id', 'winner_name']]\n",
    "data_winners = data_winners.rename(columns = {'winner_id' : 'id', 'winner_name' : 'name'})\n",
    "\n",
    "data_losers = data[['loser_id', 'loser_name']]\n",
    "data_losers = data_losers.rename(columns = {'loser_id' : 'id', 'loser_name' : 'name'})\n",
    "\n",
    "data_players = data_winners.append(data_losers, ignore_index=True)\n",
    "data_players['order_id'] = data_players.index\n",
    "print(data_players)\n"
   ]
  },
  {
   "cell_type": "code",
   "execution_count": 7,
   "metadata": {},
   "outputs": [],
   "source": [
    "if 'id' in data.columns:\n",
    "    data = data.drop(['id'], axis = 1)\n"
   ]
  },
  {
   "cell_type": "code",
   "execution_count": 8,
   "metadata": {},
   "outputs": [
    {
     "data": {
      "text/plain": [
       "tourney_id    False\n",
       "winner_id     False\n",
       "loser_id      False\n",
       "dtype: bool"
      ]
     },
     "execution_count": 8,
     "metadata": {},
     "output_type": "execute_result"
    }
   ],
   "source": [
    "data[['tourney_id', 'winner_id', 'loser_id']] .isna().any()"
   ]
  },
  {
   "cell_type": "code",
   "execution_count": 9,
   "metadata": {},
   "outputs": [
    {
     "name": "stdout",
     "output_type": "stream",
     "text": [
      "tourney_id             object\n",
      "tourney_name           object\n",
      "surface                object\n",
      "draw_size               int64\n",
      "tourney_level          object\n",
      "tourney_date            int64\n",
      "match_num               int64\n",
      "winner_id               int64\n",
      "winner_seed           float64\n",
      "winner_entry           object\n",
      "winner_name            object\n",
      "winner_hand            object\n",
      "winner_ht             float64\n",
      "winner_ioc             object\n",
      "winner_age            float64\n",
      "loser_id                int64\n",
      "loser_seed            float64\n",
      "loser_entry            object\n",
      "loser_name             object\n",
      "loser_hand             object\n",
      "loser_ht              float64\n",
      "loser_ioc              object\n",
      "loser_age             float64\n",
      "score                  object\n",
      "best_of                 int64\n",
      "round                  object\n",
      "minutes               float64\n",
      "w_ace                 float64\n",
      "w_df                  float64\n",
      "w_svpt                float64\n",
      "w_1stIn               float64\n",
      "w_1stWon              float64\n",
      "w_2ndWon              float64\n",
      "w_SvGms               float64\n",
      "w_bpSaved             float64\n",
      "w_bpFaced             float64\n",
      "l_ace                 float64\n",
      "l_df                  float64\n",
      "l_svpt                float64\n",
      "l_1stIn               float64\n",
      "l_1stWon              float64\n",
      "l_2ndWon              float64\n",
      "l_SvGms               float64\n",
      "l_bpSaved             float64\n",
      "l_bpFaced             float64\n",
      "winner_rank           float64\n",
      "winner_rank_points    float64\n",
      "loser_rank            float64\n",
      "loser_rank_points     float64\n",
      "dtype: object\n"
     ]
    }
   ],
   "source": [
    "print(data.dtypes)"
   ]
  },
  {
   "cell_type": "code",
   "execution_count": 11,
   "metadata": {},
   "outputs": [],
   "source": [
    "import pickle\n",
    "\n",
    "with open(\"data_cleaned/data_cleaned2019\", \"wb\") as file:\n",
    "    pickle.dump(data, file)"
   ]
  },
  {
   "cell_type": "code",
   "execution_count": null,
   "metadata": {},
   "outputs": [],
   "source": []
  }
 ],
 "metadata": {
  "kernelspec": {
   "display_name": "Python 3",
   "language": "python",
   "name": "python3"
  },
  "language_info": {
   "codemirror_mode": {
    "name": "ipython",
    "version": 3
   },
   "file_extension": ".py",
   "mimetype": "text/x-python",
   "name": "python",
   "nbconvert_exporter": "python",
   "pygments_lexer": "ipython3",
   "version": "3.8.5"
  }
 },
 "nbformat": 4,
 "nbformat_minor": 4
}
