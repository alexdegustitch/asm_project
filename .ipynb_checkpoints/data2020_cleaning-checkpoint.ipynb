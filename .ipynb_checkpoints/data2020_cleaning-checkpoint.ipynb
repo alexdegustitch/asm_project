{
 "cells": [
  {
   "cell_type": "code",
   "execution_count": 1,
   "metadata": {},
   "outputs": [
    {
     "data": {
      "text/html": [
       "<style>.container { width:95% !important;}</style>"
      ],
      "text/plain": [
       "<IPython.core.display.HTML object>"
      ]
     },
     "metadata": {},
     "output_type": "display_data"
    }
   ],
   "source": [
    "# Vizuelna podešavanja okruženja (samo razvuče notebook na širinu ekrana)\n",
    "from IPython.core.display import display, HTML\n",
    "display(HTML(\"<style>.container { width:95% !important;}</style>\"))"
   ]
  },
  {
   "cell_type": "code",
   "execution_count": 3,
   "metadata": {},
   "outputs": [],
   "source": [
    "import pandas as pd\n",
    "dataPath = \"data/atp_matches_2020.csv\"\n",
    "\n",
    "data = pd.read_csv(dataPath)"
   ]
  },
  {
   "cell_type": "code",
   "execution_count": 4,
   "metadata": {},
   "outputs": [],
   "source": [
    "data['id'] = data.index"
   ]
  },
  {
   "cell_type": "code",
   "execution_count": 5,
   "metadata": {},
   "outputs": [
    {
     "name": "stdout",
     "output_type": "stream",
     "text": [
      "Kolona ima 50, a redova ima 1447\n",
      "Index(['tourney_id', 'tourney_name', 'surface', 'draw_size', 'tourney_level',\n",
      "       'tourney_date', 'match_num', 'winner_id', 'winner_seed', 'winner_entry',\n",
      "       'winner_name', 'winner_hand', 'winner_ht', 'winner_ioc', 'winner_age',\n",
      "       'loser_id', 'loser_seed', 'loser_entry', 'loser_name', 'loser_hand',\n",
      "       'loser_ht', 'loser_ioc', 'loser_age', 'score', 'best_of', 'round',\n",
      "       'minutes', 'w_ace', 'w_df', 'w_svpt', 'w_1stIn', 'w_1stWon', 'w_2ndWon',\n",
      "       'w_SvGms', 'w_bpSaved', 'w_bpFaced', 'l_ace', 'l_df', 'l_svpt',\n",
      "       'l_1stIn', 'l_1stWon', 'l_2ndWon', 'l_SvGms', 'l_bpSaved', 'l_bpFaced',\n",
      "       'winner_rank', 'winner_rank_points', 'loser_rank', 'loser_rank_points',\n",
      "       'id'],\n",
      "      dtype='object')\n"
     ]
    }
   ],
   "source": [
    "print(\"Kolona ima {}, a redova ima {}\".format(data.shape[1], data.shape[0]))\n",
    "print(data.columns)"
   ]
  },
  {
   "cell_type": "code",
   "execution_count": 6,
   "metadata": {},
   "outputs": [
    {
     "name": "stdout",
     "output_type": "stream",
     "text": [
      "False\n",
      "tourney_id  winner_id  loser_id\n",
      "2020-0301   103852     104665      1\n",
      "                       104926      1\n",
      "            104312     105173      1\n",
      "            104545     105815      1\n",
      "                       106378      1\n",
      "                                  ..\n",
      "2020-M056   144750     106426      1\n",
      "                       111513      1\n",
      "                       126205      1\n",
      "            200000     105902      1\n",
      "                       106109      1\n",
      "Name: id, Length: 1447, dtype: int64\n",
      "0\n"
     ]
    }
   ],
   "source": [
    "import numpy as np\n",
    "\n",
    "print(data['tourney_id'].isnull().values.any())\n",
    "\n",
    "data_grupisano = data.groupby(['tourney_id', 'winner_id', 'loser_id'])\n",
    "data_agregirano = data_grupisano['id'].agg(np.size)\n",
    "print(data_agregirano)\n",
    "print(data_agregirano[data_agregirano > 1].size)"
   ]
  },
  {
   "cell_type": "code",
   "execution_count": 7,
   "metadata": {},
   "outputs": [
    {
     "name": "stdout",
     "output_type": "stream",
     "text": [
      "          id                        name  order_id\n",
      "0     104925              Novak Djokovic         0\n",
      "1     105138       Roberto Bautista Agut         1\n",
      "2     104925              Novak Djokovic         2\n",
      "3     105583               Dusan Lajovic         3\n",
      "4     104745                Rafael Nadal         4\n",
      "...      ...                         ...       ...\n",
      "2889  106388              Pak Long Yeung      2889\n",
      "2890  207852                  Wai Yu Kai      2890\n",
      "2891  200250  Mehluli Don Ayanda Sibanda      2891\n",
      "2892  200181                   Amer Naow      2892\n",
      "2893  208518                   Hazem Naw      2893\n",
      "\n",
      "[2894 rows x 3 columns]\n"
     ]
    }
   ],
   "source": [
    "data_winners = data[['winner_id', 'winner_name']]\n",
    "data_winners = data_winners.rename(columns = {'winner_id' : 'id', 'winner_name' : 'name'})\n",
    "\n",
    "data_losers = data[['loser_id', 'loser_name']]\n",
    "data_losers = data_losers.rename(columns = {'loser_id' : 'id', 'loser_name' : 'name'})\n",
    "\n",
    "data_players = data_winners.append(data_losers, ignore_index=True)\n",
    "data_players['order_id'] = data_players.index\n",
    "print(data_players)\n"
   ]
  },
  {
   "cell_type": "code",
   "execution_count": null,
   "metadata": {},
   "outputs": [],
   "source": []
  }
 ],
 "metadata": {
  "kernelspec": {
   "display_name": "Python 3",
   "language": "python",
   "name": "python3"
  },
  "language_info": {
   "codemirror_mode": {
    "name": "ipython",
    "version": 3
   },
   "file_extension": ".py",
   "mimetype": "text/x-python",
   "name": "python",
   "nbconvert_exporter": "python",
   "pygments_lexer": "ipython3",
   "version": "3.8.5"
  }
 },
 "nbformat": 4,
 "nbformat_minor": 4
}
