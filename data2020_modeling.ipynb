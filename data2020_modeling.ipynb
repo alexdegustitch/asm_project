{
 "cells": [
  {
   "cell_type": "code",
   "execution_count": 1,
   "metadata": {},
   "outputs": [
    {
     "data": {
      "text/html": [
       "<style>.container { width:95% !important; }</style>"
      ],
      "text/plain": [
       "<IPython.core.display.HTML object>"
      ]
     },
     "metadata": {},
     "output_type": "display_data"
    }
   ],
   "source": [
    "# Vizuelna podešavanja okruženja (samo razvuče notebook na širinu ekrana)\n",
    "from IPython.core.display import display, HTML\n",
    "display(HTML(\"<style>.container { width:95% !important; }</style>\"))\n"
   ]
  },
  {
   "cell_type": "code",
   "execution_count": 2,
   "metadata": {},
   "outputs": [
    {
     "name": "stdout",
     "output_type": "stream",
     "text": [
      "                            tourney_id                  tourney_name surface  \\\n",
      "0                            2020-8888                       Atp Cup    Hard   \n",
      "1                            2020-8888                       Atp Cup    Hard   \n",
      "2                            2020-8888                       Atp Cup    Hard   \n",
      "3                            2020-8888                       Atp Cup    Hard   \n",
      "4                            2020-8888                       Atp Cup    Hard   \n",
      "...                                ...                           ...     ...   \n",
      "1442  2020-M-DC-2020-WG2-PO-POL-HKG-01  Davis Cup WG2 PO: POL vs HKG    Hard   \n",
      "1443  2020-M-DC-2020-WG2-PO-POL-HKG-01  Davis Cup WG2 PO: POL vs HKG    Hard   \n",
      "1444  2020-M-DC-2020-WG2-PO-SYR-ZIM-01  Davis Cup WG2 PO: SYR vs ZIM    Hard   \n",
      "1445  2020-M-DC-2020-WG2-PO-SYR-ZIM-01  Davis Cup WG2 PO: SYR vs ZIM    Hard   \n",
      "1446  2020-M-DC-2020-WG2-PO-SYR-ZIM-01  Davis Cup WG2 PO: SYR vs ZIM    Hard   \n",
      "\n",
      "      draw_size tourney_level  tourney_date  match_num  winner_id winner_seed  \\\n",
      "0            24             A      20200106        300     104925         NaN   \n",
      "1            24             A      20200106        299     105138         NaN   \n",
      "2            24             A      20200106        298     104925         NaN   \n",
      "3            24             A      20200106        297     105583         NaN   \n",
      "4            24             A      20200106        296     104745         NaN   \n",
      "...         ...           ...           ...        ...        ...         ...   \n",
      "1442          4             D      20200306          2     105668         NaN   \n",
      "1443          4             D      20200306          4     209874         NaN   \n",
      "1444          4             D      20200306          1     208518         NaN   \n",
      "1445          4             D      20200306          2     111761         NaN   \n",
      "1446          4             D      20200306          4     111761         NaN   \n",
      "\n",
      "     winner_entry  ... l_1stIn l_1stWon  l_2ndWon l_SvGms  l_bpSaved  \\\n",
      "0             NaN  ...    51.0     39.0       6.0    10.0        6.0   \n",
      "1             NaN  ...    35.0     21.0       6.0     9.0        5.0   \n",
      "2             NaN  ...    57.0     35.0      25.0    14.0        6.0   \n",
      "3             NaN  ...    54.0     39.0      14.0    12.0        0.0   \n",
      "4             NaN  ...    55.0     37.0      10.0    14.0        1.0   \n",
      "...           ...  ...     ...      ...       ...     ...        ...   \n",
      "1442          NaN  ...     NaN      NaN       NaN     NaN        NaN   \n",
      "1443          NaN  ...     NaN      NaN       NaN     NaN        NaN   \n",
      "1444          NaN  ...     NaN      NaN       NaN     NaN        NaN   \n",
      "1445          NaN  ...     NaN      NaN       NaN     NaN        NaN   \n",
      "1446          NaN  ...     NaN      NaN       NaN     NaN        NaN   \n",
      "\n",
      "      l_bpFaced winner_rank winner_rank_points loser_rank loser_rank_points  \n",
      "0           8.0         2.0             9055.0        1.0            9985.0  \n",
      "1          10.0        10.0             2335.0       34.0            1251.0  \n",
      "2          11.0         2.0             9055.0        5.0            5705.0  \n",
      "3           1.0        34.0             1251.0       17.0            1840.0  \n",
      "4           5.0         1.0             9985.0       18.0            1775.0  \n",
      "...         ...         ...                ...        ...               ...  \n",
      "1442        NaN       461.0               68.0      960.0              11.0  \n",
      "1443        NaN         NaN                NaN        NaN               NaN  \n",
      "1444        NaN         NaN                NaN      813.0              18.0  \n",
      "1445        NaN       430.0               79.0        NaN               NaN  \n",
      "1446        NaN       430.0               79.0        NaN               NaN  \n",
      "\n",
      "[1447 rows x 49 columns]\n"
     ]
    }
   ],
   "source": [
    "import networkx as nx\n",
    "import pickle\n",
    "\n",
    "with open('data_cleaned/data2020_cleaned', 'rb') as file:\n",
    "    data = pickle.load(file)\n",
    "print(data)"
   ]
  },
  {
   "cell_type": "code",
   "execution_count": 3,
   "metadata": {},
   "outputs": [
    {
     "name": "stdout",
     "output_type": "stream",
     "text": [
      "Ukupan broj igraca je 345, a ukupan broj meceva je 1447\n"
     ]
    }
   ],
   "source": [
    "lista_winners = set(data['winner_id'].unique())\n",
    "lista_losers = set(data['loser_id'].unique())\n",
    "\n",
    "svi_igraci = lista_winners.union(lista_losers)\n",
    "print(f\"Ukupan broj igraca je {len(svi_igraci)}, a ukupan broj meceva je {data.shape[0]}\")\n"
   ]
  },
  {
   "cell_type": "code",
   "execution_count": 4,
   "metadata": {},
   "outputs": [],
   "source": [
    "import pandas as pd\n",
    "\n",
    "dataPath = 'data/atp_players.csv'\n",
    "players = pd.read_csv(dataPath)\n",
    "\n",
    "dataPath = 'data/atp_rankings_10s.csv'\n",
    "rankings = pd.read_csv(dataPath)"
   ]
  },
  {
   "cell_type": "code",
   "execution_count": 5,
   "metadata": {},
   "outputs": [],
   "source": [
    "G = nx.Graph()\n",
    "for player_id in svi_igraci:\n",
    "    player = players[players['player_id'] == player_id]\n",
    "    if player.empty:\n",
    "        print(\"Postoji id igraca koji ne postoji u listi svih igraca!\")\n",
    "    else:\n",
    "        player_rank = rankings[(rankings['player'] == player_id) & (rankings['ranking_date'] > 20200000) & (rankings['ranking_date'] < 20210000)]\n",
    "        rank_p = 0\n",
    "        points_p = 0\n",
    "        \n",
    "        if not player_rank.empty:\n",
    "            last_row = player_rank.shape[0] - 1\n",
    "            rank_p = int(player_rank.iloc[last_row, 1])\n",
    "            points_p = int(player_rank.iloc[last_row, 3])\n",
    "            \n",
    "        G.add_node(str(player_id), first_name = str(player.iloc[0, 1]), last_name = str(player.iloc[0, 2]), country = str(player.iloc[0, 5]), hand = str(player.iloc[0, 3]), rank = rank_p, points = points_p)\n"
   ]
  },
  {
   "cell_type": "code",
   "execution_count": 6,
   "metadata": {},
   "outputs": [],
   "source": [
    "data_reduced = data[['winner_id', 'loser_id']]\n",
    "data_reduced = data_reduced.astype({'winner_id': str, 'loser_id': str})\n",
    "\n",
    "for _, winner_id, loser_id in data_reduced.itertuples():\n",
    "    if (winner_id, loser_id) in G.edges:\n",
    "        G.edges[winner_id, loser_id]['weight'] += 1\n",
    "    else:\n",
    "        G.add_edge(winner_id, loser_id, weight = 1)"
   ]
  },
  {
   "cell_type": "code",
   "execution_count": 7,
   "metadata": {},
   "outputs": [],
   "source": [
    "output_path = \"models/model2020.gml\"\n",
    "nx.write_gml(G, output_path)"
   ]
  },
  {
   "cell_type": "code",
   "execution_count": 8,
   "metadata": {},
   "outputs": [
    {
     "name": "stdout",
     "output_type": "stream",
     "text": [
      "Name: \n",
      "Type: Graph\n",
      "Number of nodes: 345\n",
      "Number of edges: 1325\n",
      "Average degree:   7.6812\n"
     ]
    }
   ],
   "source": [
    "print(nx.info(G))"
   ]
  },
  {
   "cell_type": "code",
   "execution_count": null,
   "metadata": {},
   "outputs": [],
   "source": []
  }
 ],
 "metadata": {
  "kernelspec": {
   "display_name": "Python 3",
   "language": "python",
   "name": "python3"
  },
  "language_info": {
   "codemirror_mode": {
    "name": "ipython",
    "version": 3
   },
   "file_extension": ".py",
   "mimetype": "text/x-python",
   "name": "python",
   "nbconvert_exporter": "python",
   "pygments_lexer": "ipython3",
   "version": "3.8.5"
  }
 },
 "nbformat": 4,
 "nbformat_minor": 4
}
