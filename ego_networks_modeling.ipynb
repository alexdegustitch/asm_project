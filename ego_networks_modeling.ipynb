{
 "cells": [
  {
   "cell_type": "code",
   "execution_count": 1,
   "metadata": {},
   "outputs": [
    {
     "data": {
      "text/html": [
       "<style>.container { width:95% !important; }</style>"
      ],
      "text/plain": [
       "<IPython.core.display.HTML object>"
      ]
     },
     "metadata": {},
     "output_type": "display_data"
    }
   ],
   "source": [
    "# Vizuelna podešavanja okruženja (samo razvuče notebook na širinu ekrana)\n",
    "from IPython.core.display import display, HTML\n",
    "display(HTML(\"<style>.container { width:95% !important; }</style>\"))\n"
   ]
  },
  {
   "cell_type": "code",
   "execution_count": 2,
   "metadata": {},
   "outputs": [
    {
     "name": "stdout",
     "output_type": "stream",
     "text": [
      "Name: \n",
      "Type: Graph\n",
      "Number of nodes: 581\n",
      "Number of edges: 5330\n",
      "Average degree:  18.3477\n"
     ]
    }
   ],
   "source": [
    "import networkx as nx\n",
    "\n",
    "input_path = \"models/model_all_years.gml\"\n",
    "G = nx.read_gml(input_path)\n",
    "print(nx.info(G))"
   ]
  },
  {
   "cell_type": "code",
   "execution_count": 8,
   "metadata": {},
   "outputs": [],
   "source": [
    "import matplotlib.pyplot as plt\n",
    "egoNovak = nx.ego_graph(G, '104925')\n",
    "egoRoger = nx.ego_graph(G, '103819')\n",
    "egoNadal = nx.ego_graph(G, '104745')\n",
    "\n",
    "output_path = \"models/ego_graph_novak.gml\"\n",
    "nx.write_gml(egoNovak, output_path)\n",
    "\n",
    "output_path = \"models/ego_graph_roger.gml\"\n",
    "nx.write_gml(egoRoger, output_path)\n",
    "\n",
    "output_path = \"models/ego_graph_nadal.gml\"\n",
    "nx.write_gml(egoNadal, output_path)"
   ]
  },
  {
   "cell_type": "code",
   "execution_count": null,
   "metadata": {},
   "outputs": [],
   "source": []
  }
 ],
 "metadata": {
  "kernelspec": {
   "display_name": "Python 3",
   "language": "python",
   "name": "python3"
  },
  "language_info": {
   "codemirror_mode": {
    "name": "ipython",
    "version": 3
   },
   "file_extension": ".py",
   "mimetype": "text/x-python",
   "name": "python",
   "nbconvert_exporter": "python",
   "pygments_lexer": "ipython3",
   "version": "3.8.5"
  }
 },
 "nbformat": 4,
 "nbformat_minor": 4
}
