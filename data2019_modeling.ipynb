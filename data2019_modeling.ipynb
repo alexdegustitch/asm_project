{
 "cells": [
  {
   "cell_type": "code",
   "execution_count": 3,
   "metadata": {},
   "outputs": [
    {
     "data": {
      "text/html": [
       "<style>.container { width:95% !important; }</style>"
      ],
      "text/plain": [
       "<IPython.core.display.HTML object>"
      ]
     },
     "metadata": {},
     "output_type": "display_data"
    }
   ],
   "source": [
    "# Vizuelna podešavanja okruženja (samo razvuče notebook na širinu ekrana)\n",
    "from IPython.core.display import display, HTML\n",
    "display(HTML(\"<style>.container { width:95% !important; }</style>\"))\n"
   ]
  },
  {
   "cell_type": "code",
   "execution_count": 6,
   "metadata": {},
   "outputs": [
    {
     "name": "stdout",
     "output_type": "stream",
     "text": [
      "                           tourney_id                  tourney_name surface  \\\n",
      "0                           2019-M020                      Brisbane    Hard   \n",
      "1                           2019-M020                      Brisbane    Hard   \n",
      "2                           2019-M020                      Brisbane    Hard   \n",
      "3                           2019-M020                      Brisbane    Hard   \n",
      "4                           2019-M020                      Brisbane    Hard   \n",
      "...                               ...                           ...     ...   \n",
      "2776  2019-M-DC-2019-QLS-M-SUI-RUS-01  Davis Cup QLS R1: SUI vs RUS    Hard   \n",
      "2777  2019-M-DC-2019-QLS-M-SUI-RUS-01  Davis Cup QLS R1: SUI vs RUS    Hard   \n",
      "2778  2019-M-DC-2019-QLS-M-SWE-COL-01  Davis Cup QLS R1: SWE vs COL    Clay   \n",
      "2779  2019-M-DC-2019-QLS-M-SWE-COL-01  Davis Cup QLS R1: SWE vs COL    Clay   \n",
      "2780  2019-M-DC-2019-QLS-M-SWE-COL-01  Davis Cup QLS R1: SWE vs COL    Clay   \n",
      "\n",
      "      draw_size tourney_level  tourney_date  match_num  winner_id  \\\n",
      "0            32             A      20181231        300     105453   \n",
      "1            32             A      20181231        299     106421   \n",
      "2            32             A      20181231        298     105453   \n",
      "3            32             A      20181231        297     104542   \n",
      "4            32             A      20181231        296     106421   \n",
      "...         ...           ...           ...        ...        ...   \n",
      "2776          4             D      20190201          2     111575   \n",
      "2777          4             D      20190201          4     111575   \n",
      "2778          4             D      20190201          1     105053   \n",
      "2779          4             D      20190201          2     123755   \n",
      "2780          4             D      20190201          4     105292   \n",
      "\n",
      "      winner_seed winner_entry  ... l_1stIn l_1stWon  l_2ndWon l_SvGms  \\\n",
      "0             2.0          NaN  ...    54.0     34.0      20.0    14.0   \n",
      "1             4.0          NaN  ...    52.0     36.0       7.0    10.0   \n",
      "2             2.0          NaN  ...    27.0     15.0       6.0     8.0   \n",
      "3             NaN           PR  ...    60.0     38.0       9.0    11.0   \n",
      "4             4.0          NaN  ...    56.0     46.0      19.0    15.0   \n",
      "...           ...          ...  ...     ...      ...       ...     ...   \n",
      "2776          NaN          NaN  ...    47.0     32.0      14.0    10.0   \n",
      "2777          NaN          NaN  ...    94.0     65.0      27.0    17.0   \n",
      "2778          NaN          NaN  ...    33.0     20.0       7.0     9.0   \n",
      "2779          NaN          NaN  ...    31.0     14.0       9.0     7.0   \n",
      "2780          NaN          NaN  ...    29.0     17.0       8.0     9.0   \n",
      "\n",
      "      l_bpSaved  l_bpFaced  winner_rank winner_rank_points loser_rank  \\\n",
      "0          10.0       15.0          9.0             3590.0       16.0   \n",
      "1          10.0       13.0         16.0             1977.0      239.0   \n",
      "2           1.0        5.0          9.0             3590.0       40.0   \n",
      "3           4.0        6.0        239.0              200.0       31.0   \n",
      "4           2.0        4.0         16.0             1977.0       18.0   \n",
      "...         ...        ...          ...                ...        ...   \n",
      "2776        5.0        8.0         11.0             2880.0      362.0   \n",
      "2777       15.0       17.0         11.0             2880.0      142.0   \n",
      "2778        1.0        5.0        251.0              190.0      116.0   \n",
      "2779        2.0        6.0        228.0              224.0      194.0   \n",
      "2780        4.0        9.0        337.0               72.0      116.0   \n",
      "\n",
      "     loser_rank_points  \n",
      "0               1977.0  \n",
      "1                200.0  \n",
      "2               1050.0  \n",
      "3               1298.0  \n",
      "4               1855.0  \n",
      "...                ...  \n",
      "2776              56.0  \n",
      "2777             389.0  \n",
      "2778             485.0  \n",
      "2779             267.0  \n",
      "2780             485.0  \n",
      "\n",
      "[2781 rows x 49 columns]\n"
     ]
    }
   ],
   "source": [
    "import networkx as nx\n",
    "import pickle\n",
    "\n",
    "with open('data_cleaned/data2019_cleaned', 'rb') as file:\n",
    "    data = pickle.load(file)\n",
    "print(data)"
   ]
  },
  {
   "cell_type": "code",
   "execution_count": 7,
   "metadata": {},
   "outputs": [
    {
     "name": "stdout",
     "output_type": "stream",
     "text": [
      "Ukupan broj igraca je 364, a ukupan broj meceva je 2781\n"
     ]
    }
   ],
   "source": [
    "lista_winners = set(data['winner_id'].unique())\n",
    "lista_losers = set(data['loser_id'].unique())\n",
    "\n",
    "svi_igraci = lista_winners.union(lista_losers)\n",
    "print(f\"Ukupan broj igraca je {len(svi_igraci)}, a ukupan broj meceva je {data.shape[0]}\")\n"
   ]
  },
  {
   "cell_type": "code",
   "execution_count": 15,
   "metadata": {},
   "outputs": [],
   "source": [
    "import pandas as pd\n",
    "\n",
    "dataPath = 'data/atp_players.csv'\n",
    "players = pd.read_csv(dataPath)\n",
    "\n",
    "dataPath = 'data/atp_rankings_10s.csv'\n",
    "rankings = pd.read_csv(dataPath)"
   ]
  },
  {
   "cell_type": "code",
   "execution_count": 16,
   "metadata": {},
   "outputs": [],
   "source": [
    "G = nx.Graph()\n",
    "for player_id in svi_igraci:\n",
    "    player = players[players['player_id'] == player_id]\n",
    "    if player.empty:\n",
    "        print(\"Postoji id igraca koji ne postoji u listi svih igraca!\")\n",
    "    else:\n",
    "        player_rank = rankings[(rankings['player'] == player_id) & (rankings['ranking_date'] > 20190000) & (rankings['ranking_date'] < 20200000)]\n",
    "        rank_p = 0\n",
    "        points_p = 0\n",
    "        \n",
    "        if not player_rank.empty:\n",
    "            last_row = player_rank.shape[0] - 1\n",
    "            rank_p = int(player_rank.iloc[last_row, 1])\n",
    "            points_p = int(player_rank.iloc[last_row, 3])\n",
    "            \n",
    "        G.add_node(str(player_id), first_name = str(player.iloc[0, 1]), last_name = str(player.iloc[0, 2]), country = str(player.iloc[0, 5]), hand = str(player.iloc[0, 3]), rank = rank_p, points = points_p)\n"
   ]
  },
  {
   "cell_type": "code",
   "execution_count": 17,
   "metadata": {},
   "outputs": [],
   "source": [
    "data_reduced = data[['winner_id', 'loser_id']]\n",
    "data_reduced = data_reduced.astype({'winner_id': str, 'loser_id': str})\n",
    "\n",
    "for _, winner_id, loser_id in data_reduced.itertuples():\n",
    "    if (winner_id, loser_id) in G.edges:\n",
    "        G.edges[winner_id, loser_id]['weight'] += 1\n",
    "    else:\n",
    "        G.add_edge(winner_id, loser_id, weight = 1)"
   ]
  },
  {
   "cell_type": "code",
   "execution_count": 18,
   "metadata": {},
   "outputs": [],
   "source": [
    "output_path = \"models/model2019.gml\"\n",
    "nx.write_gml(G, output_path)"
   ]
  },
  {
   "cell_type": "code",
   "execution_count": 19,
   "metadata": {},
   "outputs": [
    {
     "name": "stdout",
     "output_type": "stream",
     "text": [
      "Name: \n",
      "Type: Graph\n",
      "Number of nodes: 364\n",
      "Number of edges: 2378\n",
      "Average degree:  13.0659\n"
     ]
    }
   ],
   "source": [
    "print(nx.info(G))"
   ]
  },
  {
   "cell_type": "code",
   "execution_count": null,
   "metadata": {},
   "outputs": [],
   "source": []
  }
 ],
 "metadata": {
  "kernelspec": {
   "display_name": "Python 3",
   "language": "python",
   "name": "python3"
  },
  "language_info": {
   "codemirror_mode": {
    "name": "ipython",
    "version": 3
   },
   "file_extension": ".py",
   "mimetype": "text/x-python",
   "name": "python",
   "nbconvert_exporter": "python",
   "pygments_lexer": "ipython3",
   "version": "3.8.5"
  }
 },
 "nbformat": 4,
 "nbformat_minor": 4
}
